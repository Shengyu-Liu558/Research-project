{
 "cells": [
  {
   "cell_type": "markdown",
   "metadata": {},
   "source": [
    "## 1. Import related packages"
   ]
  },
  {
   "cell_type": "code",
   "execution_count": 1,
   "metadata": {},
   "outputs": [
    {
     "name": "stderr",
     "output_type": "stream",
     "text": [
      "Using TensorFlow backend.\n"
     ]
    }
   ],
   "source": [
    "%matplotlib inline\n",
    "import time\n",
    "import keras\n",
    "import warnings\n",
    "import numpy as np  \n",
    "import pandas as pd\n",
    "import seaborn as sns\n",
    "import tensorflow as tf\n",
    "import matplotlib.pyplot as plt \n",
    "from keras.optimizers import Adam\n",
    "from keras.layers import Input, Dense\n",
    "from mpl_toolkits.mplot3d import Axes3D\n",
    "from sklearn.preprocessing import normalize\n",
    "from sklearn import metrics\n",
    "from keras.models import Sequential, Model\n",
    "\n",
    "from sklearn.svm import SVC\n",
    "from sklearn.ensemble import RandomForestClassifier\n",
    "from sklearn.decomposition import PCA,TruncatedSVD\n",
    "from sklearn.impute import SimpleImputer\n",
    "from sklearn.metrics import classification_report\n",
    "from sklearn.model_selection import KFold,StratifiedKFold\n",
    "from sklearn.neighbors import KNeighborsClassifier\n",
    "from sklearn.linear_model import LogisticRegression\n",
    "from sklearn.model_selection import train_test_split\n",
    "from sklearn.metrics import mean_squared_error, confusion_matrix\n",
    "from sklearn.preprocessing import LabelEncoder, OneHotEncoder\n",
    "from sklearn.preprocessing import StandardScaler, MinMaxScaler \n",
    "from sklearn.model_selection import train_test_split, cross_val_score"
   ]
  },
  {
   "cell_type": "markdown",
   "metadata": {},
   "source": [
    " ## 2. Road data"
   ]
  },
  {
   "cell_type": "code",
   "execution_count": 2,
   "metadata": {},
   "outputs": [
    {
     "ename": "FileNotFoundError",
     "evalue": "File b'test.csv' does not exist",
     "output_type": "error",
     "traceback": [
      "\u001b[1;31m---------------------------------------------------------------------------\u001b[0m",
      "\u001b[1;31mFileNotFoundError\u001b[0m                         Traceback (most recent call last)",
      "\u001b[1;32m<ipython-input-2-d82a406147a0>\u001b[0m in \u001b[0;36m<module>\u001b[1;34m\u001b[0m\n\u001b[0;32m      1\u001b[0m \u001b[0mwarnings\u001b[0m\u001b[1;33m.\u001b[0m\u001b[0mfilterwarnings\u001b[0m\u001b[1;33m(\u001b[0m\u001b[1;34m\"ignore\"\u001b[0m\u001b[1;33m)\u001b[0m\u001b[1;33m\u001b[0m\u001b[1;33m\u001b[0m\u001b[0m\n\u001b[0;32m      2\u001b[0m \u001b[0mx\u001b[0m \u001b[1;33m=\u001b[0m\u001b[1;33m[\u001b[0m\u001b[1;33m]\u001b[0m\u001b[1;33m\u001b[0m\u001b[1;33m\u001b[0m\u001b[0m\n\u001b[1;32m----> 3\u001b[1;33m \u001b[0mdataset\u001b[0m \u001b[1;33m=\u001b[0m \u001b[0mpd\u001b[0m\u001b[1;33m.\u001b[0m\u001b[0mread_csv\u001b[0m\u001b[1;33m(\u001b[0m\u001b[1;34m'test.csv'\u001b[0m\u001b[1;33m)\u001b[0m \u001b[1;31m# to import the dataset into a variable\u001b[0m\u001b[1;33m\u001b[0m\u001b[1;33m\u001b[0m\u001b[0m\n\u001b[0m\u001b[0;32m      4\u001b[0m \u001b[1;31m# print(dataset)\u001b[0m\u001b[1;33m\u001b[0m\u001b[1;33m\u001b[0m\u001b[1;33m\u001b[0m\u001b[0m\n\u001b[0;32m      5\u001b[0m \u001b[0mm\u001b[0m \u001b[1;33m=\u001b[0m \u001b[1;33m[\u001b[0m\u001b[1;33m[\u001b[0m\u001b[1;36m2.01680882e+03\u001b[0m\u001b[1;33m,\u001b[0m \u001b[1;36m0.00000000e+00\u001b[0m\u001b[1;33m,\u001b[0m \u001b[1;36m4.70000000e+01\u001b[0m\u001b[1;33m,\u001b[0m \u001b[1;36m4.50000000e+01\u001b[0m\u001b[1;33m,\u001b[0m \u001b[1;36m1.23091491e-01\u001b[0m\u001b[1;33m,\u001b[0m \u001b[1;36m2.74653072e-01\u001b[0m\u001b[1;33m]\u001b[0m\u001b[1;33m]\u001b[0m\u001b[1;33m\u001b[0m\u001b[1;33m\u001b[0m\u001b[0m\n",
      "\u001b[1;32m~\\Anaconda3\\lib\\site-packages\\pandas\\io\\parsers.py\u001b[0m in \u001b[0;36mparser_f\u001b[1;34m(filepath_or_buffer, sep, delimiter, header, names, index_col, usecols, squeeze, prefix, mangle_dupe_cols, dtype, engine, converters, true_values, false_values, skipinitialspace, skiprows, nrows, na_values, keep_default_na, na_filter, verbose, skip_blank_lines, parse_dates, infer_datetime_format, keep_date_col, date_parser, dayfirst, iterator, chunksize, compression, thousands, decimal, lineterminator, quotechar, quoting, escapechar, comment, encoding, dialect, tupleize_cols, error_bad_lines, warn_bad_lines, skipfooter, doublequote, delim_whitespace, low_memory, memory_map, float_precision)\u001b[0m\n\u001b[0;32m    676\u001b[0m                     skip_blank_lines=skip_blank_lines)\n\u001b[0;32m    677\u001b[0m \u001b[1;33m\u001b[0m\u001b[0m\n\u001b[1;32m--> 678\u001b[1;33m         \u001b[1;32mreturn\u001b[0m \u001b[0m_read\u001b[0m\u001b[1;33m(\u001b[0m\u001b[0mfilepath_or_buffer\u001b[0m\u001b[1;33m,\u001b[0m \u001b[0mkwds\u001b[0m\u001b[1;33m)\u001b[0m\u001b[1;33m\u001b[0m\u001b[1;33m\u001b[0m\u001b[0m\n\u001b[0m\u001b[0;32m    679\u001b[0m \u001b[1;33m\u001b[0m\u001b[0m\n\u001b[0;32m    680\u001b[0m     \u001b[0mparser_f\u001b[0m\u001b[1;33m.\u001b[0m\u001b[0m__name__\u001b[0m \u001b[1;33m=\u001b[0m \u001b[0mname\u001b[0m\u001b[1;33m\u001b[0m\u001b[1;33m\u001b[0m\u001b[0m\n",
      "\u001b[1;32m~\\Anaconda3\\lib\\site-packages\\pandas\\io\\parsers.py\u001b[0m in \u001b[0;36m_read\u001b[1;34m(filepath_or_buffer, kwds)\u001b[0m\n\u001b[0;32m    438\u001b[0m \u001b[1;33m\u001b[0m\u001b[0m\n\u001b[0;32m    439\u001b[0m     \u001b[1;31m# Create the parser.\u001b[0m\u001b[1;33m\u001b[0m\u001b[1;33m\u001b[0m\u001b[1;33m\u001b[0m\u001b[0m\n\u001b[1;32m--> 440\u001b[1;33m     \u001b[0mparser\u001b[0m \u001b[1;33m=\u001b[0m \u001b[0mTextFileReader\u001b[0m\u001b[1;33m(\u001b[0m\u001b[0mfilepath_or_buffer\u001b[0m\u001b[1;33m,\u001b[0m \u001b[1;33m**\u001b[0m\u001b[0mkwds\u001b[0m\u001b[1;33m)\u001b[0m\u001b[1;33m\u001b[0m\u001b[1;33m\u001b[0m\u001b[0m\n\u001b[0m\u001b[0;32m    441\u001b[0m \u001b[1;33m\u001b[0m\u001b[0m\n\u001b[0;32m    442\u001b[0m     \u001b[1;32mif\u001b[0m \u001b[0mchunksize\u001b[0m \u001b[1;32mor\u001b[0m \u001b[0miterator\u001b[0m\u001b[1;33m:\u001b[0m\u001b[1;33m\u001b[0m\u001b[1;33m\u001b[0m\u001b[0m\n",
      "\u001b[1;32m~\\Anaconda3\\lib\\site-packages\\pandas\\io\\parsers.py\u001b[0m in \u001b[0;36m__init__\u001b[1;34m(self, f, engine, **kwds)\u001b[0m\n\u001b[0;32m    785\u001b[0m             \u001b[0mself\u001b[0m\u001b[1;33m.\u001b[0m\u001b[0moptions\u001b[0m\u001b[1;33m[\u001b[0m\u001b[1;34m'has_index_names'\u001b[0m\u001b[1;33m]\u001b[0m \u001b[1;33m=\u001b[0m \u001b[0mkwds\u001b[0m\u001b[1;33m[\u001b[0m\u001b[1;34m'has_index_names'\u001b[0m\u001b[1;33m]\u001b[0m\u001b[1;33m\u001b[0m\u001b[1;33m\u001b[0m\u001b[0m\n\u001b[0;32m    786\u001b[0m \u001b[1;33m\u001b[0m\u001b[0m\n\u001b[1;32m--> 787\u001b[1;33m         \u001b[0mself\u001b[0m\u001b[1;33m.\u001b[0m\u001b[0m_make_engine\u001b[0m\u001b[1;33m(\u001b[0m\u001b[0mself\u001b[0m\u001b[1;33m.\u001b[0m\u001b[0mengine\u001b[0m\u001b[1;33m)\u001b[0m\u001b[1;33m\u001b[0m\u001b[1;33m\u001b[0m\u001b[0m\n\u001b[0m\u001b[0;32m    788\u001b[0m \u001b[1;33m\u001b[0m\u001b[0m\n\u001b[0;32m    789\u001b[0m     \u001b[1;32mdef\u001b[0m \u001b[0mclose\u001b[0m\u001b[1;33m(\u001b[0m\u001b[0mself\u001b[0m\u001b[1;33m)\u001b[0m\u001b[1;33m:\u001b[0m\u001b[1;33m\u001b[0m\u001b[1;33m\u001b[0m\u001b[0m\n",
      "\u001b[1;32m~\\Anaconda3\\lib\\site-packages\\pandas\\io\\parsers.py\u001b[0m in \u001b[0;36m_make_engine\u001b[1;34m(self, engine)\u001b[0m\n\u001b[0;32m   1012\u001b[0m     \u001b[1;32mdef\u001b[0m \u001b[0m_make_engine\u001b[0m\u001b[1;33m(\u001b[0m\u001b[0mself\u001b[0m\u001b[1;33m,\u001b[0m \u001b[0mengine\u001b[0m\u001b[1;33m=\u001b[0m\u001b[1;34m'c'\u001b[0m\u001b[1;33m)\u001b[0m\u001b[1;33m:\u001b[0m\u001b[1;33m\u001b[0m\u001b[1;33m\u001b[0m\u001b[0m\n\u001b[0;32m   1013\u001b[0m         \u001b[1;32mif\u001b[0m \u001b[0mengine\u001b[0m \u001b[1;33m==\u001b[0m \u001b[1;34m'c'\u001b[0m\u001b[1;33m:\u001b[0m\u001b[1;33m\u001b[0m\u001b[1;33m\u001b[0m\u001b[0m\n\u001b[1;32m-> 1014\u001b[1;33m             \u001b[0mself\u001b[0m\u001b[1;33m.\u001b[0m\u001b[0m_engine\u001b[0m \u001b[1;33m=\u001b[0m \u001b[0mCParserWrapper\u001b[0m\u001b[1;33m(\u001b[0m\u001b[0mself\u001b[0m\u001b[1;33m.\u001b[0m\u001b[0mf\u001b[0m\u001b[1;33m,\u001b[0m \u001b[1;33m**\u001b[0m\u001b[0mself\u001b[0m\u001b[1;33m.\u001b[0m\u001b[0moptions\u001b[0m\u001b[1;33m)\u001b[0m\u001b[1;33m\u001b[0m\u001b[1;33m\u001b[0m\u001b[0m\n\u001b[0m\u001b[0;32m   1015\u001b[0m         \u001b[1;32melse\u001b[0m\u001b[1;33m:\u001b[0m\u001b[1;33m\u001b[0m\u001b[1;33m\u001b[0m\u001b[0m\n\u001b[0;32m   1016\u001b[0m             \u001b[1;32mif\u001b[0m \u001b[0mengine\u001b[0m \u001b[1;33m==\u001b[0m \u001b[1;34m'python'\u001b[0m\u001b[1;33m:\u001b[0m\u001b[1;33m\u001b[0m\u001b[1;33m\u001b[0m\u001b[0m\n",
      "\u001b[1;32m~\\Anaconda3\\lib\\site-packages\\pandas\\io\\parsers.py\u001b[0m in \u001b[0;36m__init__\u001b[1;34m(self, src, **kwds)\u001b[0m\n\u001b[0;32m   1706\u001b[0m         \u001b[0mkwds\u001b[0m\u001b[1;33m[\u001b[0m\u001b[1;34m'usecols'\u001b[0m\u001b[1;33m]\u001b[0m \u001b[1;33m=\u001b[0m \u001b[0mself\u001b[0m\u001b[1;33m.\u001b[0m\u001b[0musecols\u001b[0m\u001b[1;33m\u001b[0m\u001b[1;33m\u001b[0m\u001b[0m\n\u001b[0;32m   1707\u001b[0m \u001b[1;33m\u001b[0m\u001b[0m\n\u001b[1;32m-> 1708\u001b[1;33m         \u001b[0mself\u001b[0m\u001b[1;33m.\u001b[0m\u001b[0m_reader\u001b[0m \u001b[1;33m=\u001b[0m \u001b[0mparsers\u001b[0m\u001b[1;33m.\u001b[0m\u001b[0mTextReader\u001b[0m\u001b[1;33m(\u001b[0m\u001b[0msrc\u001b[0m\u001b[1;33m,\u001b[0m \u001b[1;33m**\u001b[0m\u001b[0mkwds\u001b[0m\u001b[1;33m)\u001b[0m\u001b[1;33m\u001b[0m\u001b[1;33m\u001b[0m\u001b[0m\n\u001b[0m\u001b[0;32m   1709\u001b[0m \u001b[1;33m\u001b[0m\u001b[0m\n\u001b[0;32m   1710\u001b[0m         \u001b[0mpassed_names\u001b[0m \u001b[1;33m=\u001b[0m \u001b[0mself\u001b[0m\u001b[1;33m.\u001b[0m\u001b[0mnames\u001b[0m \u001b[1;32mis\u001b[0m \u001b[1;32mNone\u001b[0m\u001b[1;33m\u001b[0m\u001b[1;33m\u001b[0m\u001b[0m\n",
      "\u001b[1;32mpandas\\_libs\\parsers.pyx\u001b[0m in \u001b[0;36mpandas._libs.parsers.TextReader.__cinit__\u001b[1;34m()\u001b[0m\n",
      "\u001b[1;32mpandas\\_libs\\parsers.pyx\u001b[0m in \u001b[0;36mpandas._libs.parsers.TextReader._setup_parser_source\u001b[1;34m()\u001b[0m\n",
      "\u001b[1;31mFileNotFoundError\u001b[0m: File b'test.csv' does not exist"
     ]
    }
   ],
   "source": [
    "warnings.filterwarnings(\"ignore\")\n",
    "x =[]\n",
    "dataset = pd.read_csv('test.csv') # to import the dataset into a variable\n",
    "# print(dataset)\n",
    "m = [[2.01680882e+03, 0.00000000e+00, 4.70000000e+01, 4.50000000e+01, 1.23091491e-01, 2.74653072e-01]]\n",
    "\n",
    "m=np.array(m)\n",
    "\n",
    "\n",
    "\n",
    "# Splitting the attributes into independent and dependent attributes\n",
    "X = dataset.iloc[:, 0:-1].values # attributes to determine dependent variable / Class\n",
    "X= np.append(m,X,axis=0)\n",
    "# print(XX)\n",
    "min_max_scaler = MinMaxScaler()\n",
    "X = min_max_scaler.fit_transform(X)\n",
    "print(X)\n",
    "mm = X[0]\n",
    "mm = [mm.tolist()]\n",
    "mm=np.array(mm)\n",
    "print(mm)\n",
    "XX = np.delete(X, 0, 0)\n",
    "print(XX)\n",
    "Y = dataset.iloc[:, -1].values # dependent variable / Class\n",
    "\n",
    "data_train, data_test, label_train, label_test = train_test_split(XX, Y, test_size=0.1, random_state=0)"
   ]
  },
  {
   "cell_type": "markdown",
   "metadata": {},
   "source": [
    "## 3. Handling of Missing Data"
   ]
  },
  {
   "cell_type": "code",
   "execution_count": 9,
   "metadata": {},
   "outputs": [],
   "source": [
    "# imputer = SimpleImputer(missing_values=np.nan, strategy='mean') \n",
    "# imputer = imputer.fit(X[:, 0:])\n",
    "# X[:, 0:] = imputer.transform(X[:, 0:])"
   ]
  },
  {
   "cell_type": "markdown",
   "metadata": {},
   "source": [
    "## 4. Data normalization(New)"
   ]
  },
  {
   "cell_type": "code",
   "execution_count": null,
   "metadata": {},
   "outputs": [],
   "source": [
    "def autoNorm(dataSet):\n",
    "    minVals = dataSet.min(0) # 取每一列的最小值\n",
    "    maxVals = dataSet.max(0) # 取每一列的最大值\n",
    "    ranges = maxVals - minVals\n",
    "    normDataSet = np.zeros(np.shape(dataSet))\n",
    "    m = dataSet.shape[0]\n",
    "    normDataSet = dataSet - np.tile(minVals, (m, 1))\n",
    "    normDataSet = normDataSet/np.tile(ranges, (m, 1))   \n",
    "    return normDataSet\n",
    "\n",
    "XautoNorm(X)"
   ]
  },
  {
   "cell_type": "markdown",
   "metadata": {},
   "source": [
    "## 5. Methods of dimensionality reduction"
   ]
  },
  {
   "cell_type": "markdown",
   "metadata": {},
   "source": [
    "### 5.1 PCA data dimensionality reduction"
   ]
  },
  {
   "cell_type": "code",
   "execution_count": 3,
   "metadata": {},
   "outputs": [],
   "source": [
    "def pca_reduction(data_train,data_test,percentage):\n",
    "    new_data_train = data_train\n",
    "    new_data_test = data_test\n",
    "    new_pca = PCA(percentage)\n",
    "    new_data_train = new_pca.fit_transform(new_data_train)\n",
    "    new_data_test = new_pca.transform(new_data_test)\n",
    "    return new_data_train, new_data_test"
   ]
  },
  {
   "cell_type": "code",
   "execution_count": 4,
   "metadata": {},
   "outputs": [],
   "source": [
    "def two_d_pca(): # show 2d of pca\n",
    "    feat_cols = [ 'pixel'+str(i) for i in range(data_train.shape[1]) ]\n",
    "    df = pd.DataFrame(data_train,columns=feat_cols)\n",
    "    df['y'] = label_train\n",
    "    rndperm = np.random.permutation(df.shape[0])\n",
    "\n",
    "    New_Pca = PCA(n_components=2)\n",
    "    new_pca_result = New_Pca.fit_transform(data_train)\n",
    "#     print(new_pca_result)\n",
    "\n",
    "    df['pca-one'] = new_pca_result[:,0]\n",
    "    df['pca-two'] = new_pca_result[:,1] \n",
    "#     df['pca-three'] = new_pca_result[:,2]\n",
    "    plt.figure(figsize=(10,6))\n",
    "\n",
    "    plt.scatter( df['pca-one'],df['pca-two'], c=df['y'])\n",
    "    plt.xlabel('pca-one',size =14)\n",
    "    plt.ylabel('pca-two',size =14)\n",
    "    cb = plt.colorbar()\n",
    "    cb.ax.tick_params(labelsize=14)\n",
    "    plt.xticks(fontsize=14)\n",
    "    plt.yticks(fontsize=14)\n",
    "    font = {'family' : 'serif',\n",
    "        'color'  : 'black',\n",
    "        'weight' : 'normal',\n",
    "        'size'   : 14,\n",
    "        }\n",
    "    cb.set_label('Rank',fontdict=font,size = 13) "
   ]
  },
  {
   "cell_type": "code",
   "execution_count": 5,
   "metadata": {},
   "outputs": [
    {
     "data": {
      "image/png": "[encoded data removed]",
      "text/plain": [
       "<Figure size 720x432 with 2 Axes>"
      ]
     },
     "metadata": {
      "needs_background": "light"
     },
     "output_type": "display_data"
    }
   ],
   "source": [
    "two_d_pca()"
   ]
  },
  {
   "cell_type": "markdown",
   "metadata": {},
   "source": [
    "### 5.2 SVD data dimensionality reduction"
   ]
  },
  {
   "cell_type": "code",
   "execution_count": 5,
   "metadata": {},
   "outputs": [],
   "source": [
    "def svd_reduction(train,test,num):\n",
    "    svd = TruncatedSVD(n_components= num, algorithm='randomized')\n",
    "    svd_data_train = svd.fit_transform(train)\n",
    "    svd_data_test = svd.transform(test)\n",
    "    return svd_data_train,svd_data_test,svd"
   ]
  },
  {
   "cell_type": "markdown",
   "metadata": {},
   "source": [
    "## 6. Model"
   ]
  },
  {
   "cell_type": "markdown",
   "metadata": {},
   "source": [
    "### 6.1 KNN and  Cross Validation"
   ]
  },
  {
   "cell_type": "code",
   "execution_count": 4,
   "metadata": {},
   "outputs": [],
   "source": [
    "def knn_valid(data,label):\n",
    "    knn_time_start = time.time()\n",
    "    k_range = range(1,50,1)  \n",
    "    k_scores = []    \n",
    "    for k in k_range:  \n",
    "        knn = KNeighborsClassifier(n_neighbors=k,weights='uniform', algorithm='auto', leaf_size=30, p=2, metric_params=None, n_jobs=5)  \n",
    "        scores = cross_val_score(knn, data, label, cv=10, scoring='accuracy')  \n",
    "        k_scores.append(scores.mean())  \n",
    "    print('validation done! Time elapsed: {:.6f} seconds'.format(time.time()-knn_time_start))\n",
    "\n",
    "    plt.plot(k_range,k_scores)\n",
    "    plt.title(\"KNN Classifier\")\n",
    "    plt.xlabel('Value of K for KNN')  \n",
    "    plt.ylabel('Cross-Validated Accuracy')  \n",
    "    plt.show()  \n",
    "    return  k_scores"
   ]
  },
  {
   "cell_type": "markdown",
   "metadata": {},
   "source": [
    "### 6.2 Logistic Regression and Cross Validation"
   ]
  },
  {
   "cell_type": "code",
   "execution_count": 3,
   "metadata": {},
   "outputs": [],
   "source": [
    "def lr_c_valid(data_train,label_train):\n",
    "    lr_time_start = time.time()\n",
    "    c_range = range(1,50,1)  \n",
    "    c_scores = []    \n",
    "    for c in c_range:  \n",
    "        logisticRegr = LogisticRegression(multi_class='auto',solver='lbfgs',C=c, n_jobs=2)  \n",
    "        lr_scores = cross_val_score(logisticRegr, data_train, label_train, cv=10, scoring='accuracy')  \n",
    "        c_scores.append(lr_scores.mean())  \n",
    "    print('validation of LR done! Time elapsed: {:.6f} seconds'.format(time.time()-lr_time_start))\n",
    "\n",
    "    plt.plot(c_range, c_scores)\n",
    "    plt.title(\"LR Classifier\")\n",
    "    plt.xlabel('Value of C for RL')  \n",
    "    plt.ylabel('Cross-Validated Accuracy')  \n",
    "    plt.show()  \n",
    "      \n",
    "    return  c_scores"
   ]
  },
  {
   "cell_type": "markdown",
   "metadata": {},
   "source": [
    "### 6.3 SVC and Cross Validation"
   ]
  },
  {
   "cell_type": "code",
   "execution_count": 5,
   "metadata": {},
   "outputs": [],
   "source": [
    "def svc_c_valid(data_train,label_train):\n",
    "    svc_time_start = time.time()\n",
    "    svc = SVC(kernel='linear')\n",
    "    C_s = np.logspace(-10, 8, 10)\n",
    "\n",
    "    scores = list()\n",
    "    scores_std = list()\n",
    "    for C in C_s:\n",
    "        svc.C = C\n",
    "        this_scores = cross_val_score(svc, data_train, label_train, cv=5, n_jobs=5)\n",
    "        scores.append(np.mean(this_scores))\n",
    "        scores_std.append(np.std(this_scores))\n",
    "    \n",
    "    print('validation done! Time elapsed: {:.6f} seconds'.format(time.time()- svc_time_start))\n",
    "\n",
    "    # Do the plotting\n",
    "    plt.figure()\n",
    "    plt.semilogx(C_s, scores)\n",
    "    locs, labels = plt.yticks()\n",
    "    plt.yticks(locs, list(map(lambda x: \"%g\" % x, locs)))\n",
    "    plt.title(\"SVC Classifier\")\n",
    "    plt.ylabel('CV score')\n",
    "    plt.xlabel('Parameter C')\n",
    "    plt.ylim(0, 1.1)\n",
    "    plt.show()\n",
    "    \n",
    "    return scores"
   ]
  },
  {
   "cell_type": "markdown",
   "metadata": {},
   "source": [
    "### 6.4  RandomForest and K-Fold Cross Validation"
   ]
  },
  {
   "cell_type": "code",
   "execution_count": 7,
   "metadata": {},
   "outputs": [],
   "source": [
    "def randomforest_valid(data_train,label_train):\n",
    "    RF_time_start = time.time()\n",
    "    n_estimators_range = range(1,50,10)  \n",
    "    rf_scores = []    \n",
    "    for n in n_estimators_range: \n",
    "        clf = RandomForestClassifier(\n",
    "        n_estimators= n,\n",
    "        criterion='gini',\n",
    "        max_depth=5,\n",
    "        min_samples_split=2,\n",
    "        min_samples_leaf=1,\n",
    "        min_weight_fraction_leaf=0.0,\n",
    "        max_features='auto',\n",
    "        max_leaf_nodes=None,\n",
    "        min_impurity_decrease=0.0,\n",
    "        min_impurity_split=None,\n",
    "        bootstrap=True,\n",
    "        oob_score=False,\n",
    "        n_jobs=-1,\n",
    "        random_state=0,\n",
    "        verbose=0,\n",
    "        warm_start=False,\n",
    "        class_weight='balanced')\n",
    "        \n",
    "        scores = cross_val_score(clf, data_train, label_train, cv=10, scoring='accuracy')  \n",
    "        rf_scores.append(scores.mean())  \n",
    "    print('validation done! Time elapsed: {:.6f} seconds'.format(time.time()-RF_time_start))\n",
    "\n",
    "    plt.plot(n_estimators_range,rf_scores)\n",
    "    plt.title(\"RandomForest Classifier\")\n",
    "    plt.xlabel('Number of estimator for RandomForest')  \n",
    "    plt.ylabel('Cross-Validated Accuracy')  \n",
    "    plt.show()  \n",
    "    return  rf_scores"
   ]
  },
  {
   "cell_type": "markdown",
   "metadata": {},
   "source": [
    "## 6. Data preprocessing"
   ]
  },
  {
   "cell_type": "markdown",
   "metadata": {},
   "source": [
    "### 6.1 PCA Visualization"
   ]
  },
  {
   "cell_type": "code",
   "execution_count": 97,
   "metadata": {},
   "outputs": [
    {
     "name": "stdout",
     "output_type": "stream",
     "text": [
      "PCA done! Time elapsed: 0.008976 seconds\n"
     ]
    }
   ],
   "source": [
    "pca_time_start = time.time()\n",
    "pca_data_train,pca_data_test = pca_reduction(data_train,data_test,0.9)\n",
    "print('PCA done! Time elapsed: {:.6f} seconds'.format(time.time()-pca_time_start))"
   ]
  },
  {
   "cell_type": "markdown",
   "metadata": {},
   "source": [
    "### 6.2 SVD Visualization"
   ]
  },
  {
   "cell_type": "code",
   "execution_count": 12,
   "metadata": {},
   "outputs": [
    {
     "name": "stdout",
     "output_type": "stream",
     "text": [
      "SVD done! Time elapsed: 0.011968 seconds\n"
     ]
    }
   ],
   "source": [
    "svd_time_start = time.time()\n",
    "svd_data_train, svd_data_test,new_svd = svd_reduction(data_train,data_test,1)\n",
    "print('SVD done! Time elapsed: {:.6f} seconds'.format(time.time()-svd_time_start))"
   ]
  },
  {
   "cell_type": "markdown",
   "metadata": {},
   "source": [
    "## 7. testing"
   ]
  },
  {
   "cell_type": "markdown",
   "metadata": {},
   "source": [
    "### 7.1 KNN and crossValidation"
   ]
  },
  {
   "cell_type": "markdown",
   "metadata": {},
   "source": [
    "#### 7.1.1 KNN with PCA cross validation"
   ]
  },
  {
   "cell_type": "code",
   "execution_count": 7,
   "metadata": {},
   "outputs": [
    {
     "name": "stdout",
     "output_type": "stream",
     "text": [
      "validation done! Time elapsed: 5.167177 seconds\n"
     ]
    },
    {
     "data": {
      "image/png": "[encoded data removed]",
      "text/plain": [
       "<Figure size 432x288 with 1 Axes>"
      ]
     },
     "metadata": {
      "needs_background": "light"
     },
     "output_type": "display_data"
    },
    {
     "name": "stdout",
     "output_type": "stream",
     "text": [
      "0.4632534132534132 19\n"
     ]
    }
   ],
   "source": [
    "k_val_scores = knn_valid(data_train,label_train)\n",
    "max_score = max(k_val_scores)\n",
    "best_k = k_val_scores.index(max_score)\n",
    "print(max_score,best_k)"
   ]
  },
  {
   "cell_type": "code",
   "execution_count": 9,
   "metadata": {
    "scrolled": true
   },
   "outputs": [
    {
     "name": "stdout",
     "output_type": "stream",
     "text": [
      "Accuracy: 0.5454545454545454\n"
     ]
    }
   ],
   "source": [
    "new_pca_knn = KNeighborsClassifier(n_neighbors=8,weights='uniform', algorithm='auto', leaf_size=10, p=1, metric_params=None, n_jobs=1)\n",
    "knn_pca_model = new_pca_knn.fit(data_train,label_train)\n",
    "print(\"Accuracy:\",new_pca_knn.score(data_test,label_test))"
   ]
  },
  {
   "cell_type": "markdown",
   "metadata": {},
   "source": [
    "#### 7.1.2 KNN with SVD cross validation"
   ]
  },
  {
   "cell_type": "code",
   "execution_count": 100,
   "metadata": {},
   "outputs": [
    {
     "name": "stdout",
     "output_type": "stream",
     "text": [
      "validation done! Time elapsed: 6.542475 seconds\n"
     ]
    },
    {
     "data": {
      "image/png": "[encoded data removed]",
      "text/plain": [
       "<Figure size 432x288 with 1 Axes>"
      ]
     },
     "metadata": {
      "needs_background": "light"
     },
     "output_type": "display_data"
    },
    {
     "name": "stdout",
     "output_type": "stream",
     "text": [
      "0.4396436896436896 8\n"
     ]
    }
   ],
   "source": [
    "svd_score = knn_valid(data_train,label_train)\n",
    "max_score_svd = max(svd_score)\n",
    "best_k_svd = svd_score.index(max_score_svd)\n",
    "print(max_score_svd,best_k_svd)"
   ]
  },
  {
   "cell_type": "code",
   "execution_count": 102,
   "metadata": {},
   "outputs": [
    {
     "data": {
      "text/plain": [
       "0.45454545454545453"
      ]
     },
     "execution_count": 102,
     "metadata": {},
     "output_type": "execute_result"
    }
   ],
   "source": [
    "new_svd_knn = KNeighborsClassifier(n_neighbors=9,weights='uniform', algorithm='auto', leaf_size=30, p=2, metric_params=None, n_jobs=5)\n",
    "knn_svd_model = new_svd_knn.fit(data_train,label_train)\n",
    "new_svd_knn.score(data_test,label_test)"
   ]
  },
  {
   "cell_type": "markdown",
   "metadata": {},
   "source": [
    "### 7.2 LR and crossValidation"
   ]
  },
  {
   "cell_type": "code",
   "execution_count": 23,
   "metadata": {},
   "outputs": [
    {
     "name": "stdout",
     "output_type": "stream",
     "text": [
      "validation of LR done! Time elapsed: 16.142331 seconds\n"
     ]
    },
    {
     "data": {
      "image/png": "[encoded data removed]",
      "text/plain": [
       "<Figure size 432x288 with 1 Axes>"
      ]
     },
     "metadata": {
      "needs_background": "light"
     },
     "output_type": "display_data"
    },
    {
     "name": "stdout",
     "output_type": "stream",
     "text": [
      "0.42598068598068595 Optimal parameter: 43\n"
     ]
    }
   ],
   "source": [
    "lr_val_c_scores = lr_c_valid(data_train,label_train)\n",
    "max_score = max(lr_val_c_scores)\n",
    "best_c = lr_val_c_scores.index(max_score)\n",
    "print(max_score,\"Optimal parameter:\",best_c)"
   ]
  },
  {
   "cell_type": "code",
   "execution_count": 8,
   "metadata": {},
   "outputs": [
    {
     "name": "stdout",
     "output_type": "stream",
     "text": [
      "0.8181818181818182\n",
      "[2]\n"
     ]
    }
   ],
   "source": [
    "new_lr = LogisticRegression(C=43)\n",
    "new_lr.fit(data_train,label_train)\n",
    "print(new_lr.score(data_test,label_test))\n",
    "\n",
    "svc_pred = new_lr.predict(mm)\n",
    "print(svc_pred)"
   ]
  },
  {
   "cell_type": "markdown",
   "metadata": {},
   "source": [
    "### 7.4 SVC and crossValidation"
   ]
  },
  {
   "cell_type": "code",
   "execution_count": 6,
   "metadata": {},
   "outputs": [
    {
     "name": "stdout",
     "output_type": "stream",
     "text": [
      "validation done! Time elapsed: 16.610180 seconds\n"
     ]
    },
    {
     "data": {
      "image/png": "[encoded data removed]",
      "text/plain": [
       "<Figure size 432x288 with 1 Axes>"
      ]
     },
     "metadata": {
      "needs_background": "light"
     },
     "output_type": "display_data"
    },
    {
     "name": "stdout",
     "output_type": "stream",
     "text": [
      "0.4903276947697462 6\n"
     ]
    }
   ],
   "source": [
    "svc_val_c_scores = svc_c_valid(data_train,label_train)\n",
    "svc_max_score = max(svc_val_c_scores)\n",
    "svc_best_c = svc_val_c_scores.index(svc_max_score)\n",
    "print(svc_max_score)"
   ]
  },
  {
   "cell_type": "code",
   "execution_count": 7,
   "metadata": {},
   "outputs": [
    {
     "name": "stdout",
     "output_type": "stream",
     "text": [
      "Accuracy: 0.8181818181818182\n"
     ]
    }
   ],
   "source": [
    "new_svc = SVC(kernel='linear',C= 54)\n",
    "svc_model = new_svc.fit(data_train,label_train)\n",
    "print(\"Accuracy:\",svc_model.score(data_test,label_test))"
   ]
  },
  {
   "cell_type": "code",
   "execution_count": 13,
   "metadata": {},
   "outputs": [
    {
     "data": {
      "text/plain": [
       "array([[1.        , 0.        , 0.07017544, 0.01427065, 0.03064844,\n",
       "        0.11972778],\n",
       "       [0.81740167, 0.        , 0.00974659, 0.25462214, 0.18815079,\n",
       "        0.30338288],\n",
       "       [0.58333333, 0.        , 0.00779727, 0.00717047, 0.        ,\n",
       "        0.        ],\n",
       "       [1.        , 0.12658228, 0.01754386, 0.01181019, 0.27342923,\n",
       "        0.7070079 ],\n",
       "       [1.        , 0.12658228, 0.89083821, 0.26158172, 0.89960026,\n",
       "        1.        ],\n",
       "       [0.91666667, 0.        , 0.03703704, 0.03205624, 0.4019351 ,\n",
       "        0.3139204 ],\n",
       "       [0.81740167, 0.        , 0.0214425 , 0.01898067, 0.08238526,\n",
       "        0.38857108],\n",
       "       [0.83333333, 0.11392405, 0.53996101, 0.12302285, 0.92619238,\n",
       "        0.68395744],\n",
       "       [0.81740167, 0.03797468, 0.01949318, 0.03901582, 0.4074217 ,\n",
       "        0.67098148],\n",
       "       [0.66666667, 0.01265823, 0.        , 0.04913884, 0.31272991,\n",
       "        0.58088075],\n",
       "       [0.91666667, 0.        , 0.4288499 , 0.03613357, 0.65206721,\n",
       "        0.69410262]])"
      ]
     },
     "execution_count": 13,
     "metadata": {},
     "output_type": "execute_result"
    }
   ],
   "source": [
    "data_test"
   ]
  },
  {
   "cell_type": "markdown",
   "metadata": {},
   "source": [
    "### 7.4 RandomForest and crossValidation"
   ]
  },
  {
   "cell_type": "code",
   "execution_count": 116,
   "metadata": {},
   "outputs": [
    {
     "name": "stdout",
     "output_type": "stream",
     "text": [
      "validation done! Time elapsed: 6.936406 seconds\n"
     ]
    },
    {
     "data": {
      "image/png": "[encoded data removed]",
      "text/plain": [
       "<Figure size 432x288 with 1 Axes>"
      ]
     },
     "metadata": {
      "needs_background": "light"
     },
     "output_type": "display_data"
    },
    {
     "name": "stdout",
     "output_type": "stream",
     "text": [
      "0.37743589743589745 2\n"
     ]
    }
   ],
   "source": [
    "rf_val_stimator_scores = randomforest_valid(pca_data_train,label_train)\n",
    "rf_max_score = max(rf_val_stimator_scores)\n",
    "rf_best_stimator = rf_val_stimator_scores.index(rf_max_score)\n",
    "print(rf_max_score,rf_best_stimator)"
   ]
  },
  {
   "cell_type": "code",
   "execution_count": 127,
   "metadata": {},
   "outputs": [
    {
     "name": "stdout",
     "output_type": "stream",
     "text": [
      "Accuracy: 0.45454545454545453\n"
     ]
    }
   ],
   "source": [
    "new_rf = RandomForestClassifier(n_estimators= 22)\n",
    "rf_model = new_rf.fit(data_train,label_train)\n",
    "print(\"Accuracy:\",rf_model.score(data_test,label_test))"
   ]
  },
  {
   "cell_type": "markdown",
   "metadata": {},
   "source": [
    "## 8 confusion_matrix"
   ]
  },
  {
   "cell_type": "code",
   "execution_count": 15,
   "metadata": {},
   "outputs": [
    {
     "data": {
      "text/plain": [
       "<matplotlib.axes._subplots.AxesSubplot at 0x2625c265f98>"
      ]
     },
     "execution_count": 15,
     "metadata": {},
     "output_type": "execute_result"
    },
    {
     "data": {
      "image/png": "[encoded data removed]",
      "text/plain": [
       "<Figure size 720x504 with 2 Axes>"
      ]
     },
     "metadata": {
      "needs_background": "light"
     },
     "output_type": "display_data"
    }
   ],
   "source": [
    "svc_pred = new_svc.predict(data_test)\n",
    "cm=metrics.confusion_matrix(label_test,svc_pred)\n",
    "\n",
    "plt.figure(figsize = (10,7))\n",
    "plt.title('confusion matrix',size =20)\n",
    "sns.heatmap(cm, annot=True,annot_kws={\"size\": 16},cmap=\"Blues\")\n",
    "\n"
   ]
  },
  {
   "cell_type": "code",
   "execution_count": 56,
   "metadata": {},
   "outputs": [
    {
     "name": "stdout",
     "output_type": "stream",
     "text": [
      "              precision    recall  f1-score   support\n",
      "\n",
      "           1       1.00      1.00      1.00         1\n",
      "           2       1.00      1.00      1.00         1\n",
      "           3       1.00      1.00      1.00         1\n",
      "           4       0.00      0.00      0.00         0\n",
      "           5       1.00      0.80      0.89         5\n",
      "           6       1.00      0.50      0.67         2\n",
      "           7       0.50      1.00      0.67         1\n",
      "\n",
      "   micro avg       0.82      0.82      0.82        11\n",
      "   macro avg       0.79      0.76      0.75        11\n",
      "weighted avg       0.95      0.82      0.86        11\n",
      "\n"
     ]
    }
   ],
   "source": [
    "print(classification_report(label_test,svc_pred))"
   ]
  }
 ],
 "metadata": {
  "kernelspec": {
   "display_name": "Python 3",
   "language": "python",
   "name": "python3"
  },
  "language_info": {
   "codemirror_mode": {
    "name": "ipython",
    "version": 3
   },
   "file_extension": ".py",
   "mimetype": "text/x-python",
   "name": "python",
   "nbconvert_exporter": "python",
   "pygments_lexer": "ipython3",
   "version": "3.7.1"
  }
 },
 "nbformat": 4,
 "nbformat_minor": 2
}
