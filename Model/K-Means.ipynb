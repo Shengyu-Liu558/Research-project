{
 "cells": [
  {
   "cell_type": "code",
   "execution_count": 1,
   "metadata": {},
   "outputs": [],
   "source": [
    "# -*- coding: utf-8 -*-\n",
    "import numpy as np"
   ]
  },
  {
   "cell_type": "code",
   "execution_count": 2,
   "metadata": {},
   "outputs": [],
   "source": [
    "def distEclud(vecA, vecB):\n",
    "    return np.sqrt(sum(np.power(vecA - vecB, 2)))"
   ]
  },
  {
   "cell_type": "code",
   "execution_count": 3,
   "metadata": {},
   "outputs": [],
   "source": [
    "def newCent(L):\n",
    "    centroids = []\n",
    "    label_list = np.unique(L[:,-1])\n",
    "    for i in label_list:\n",
    "        L_i = L[(L[:,-1])==i]\n",
    "        cent_i = np.mean(L_i,0)\n",
    "        centroids.append(cent_i[:-1])\n",
    "    return np.array(centroids) "
   ]
  },
  {
   "cell_type": "code",
   "execution_count": 4,
   "metadata": {},
   "outputs": [],
   "source": [
    "def semi_kMeans(L, U, distMeas=distEclud, initial_centriod=newCent):\n",
    "\n",
    "    dataSet = np.vstack((L[:,:-1],U))\n",
    "    label_list = np.unique(L[:,-1])\n",
    "    k = len(label_list)      \n",
    "    m = np.shape(dataSet)[0]\n",
    "    \n",
    "    clusterAssment = np.zeros(m)                            \n",
    "    centroids = initial_centriod(L)\n",
    "    clusterChanged = True\n",
    "    while clusterChanged:\n",
    "        clusterChanged = False\n",
    "        for i in range(m):\n",
    "            minDist = np.inf; minIndex = -1\n",
    "            for j in range(k):\n",
    "                distJI = distMeas(centroids[j,:],dataSet[i,:])\n",
    "                if distJI < minDist:\n",
    "                    minDist = distJI; minIndex = j\n",
    "            if clusterAssment[i] != minIndex: clusterChanged = True\n",
    "            clusterAssment[i] = minIndex\n",
    "    return clusterAssment  \n"
   ]
  },
  {
   "cell_type": "code",
   "execution_count": 5,
   "metadata": {},
   "outputs": [],
   "source": [
    "L =np.array([[1.0, 4.2 ,1],\n",
    "    [1.3, 4.0 , 1],\n",
    "    [1.0, 4.0 , 1],\n",
    "    [1.5, 4.3 , 1],\n",
    "    [2.0, 4.0 , 0],\n",
    "    [2.3, 3.7 , 0],\n",
    "    [4.0, 1.0 , 0]])\n",
    "\n",
    "U =np.array([[1.4, 5.0],\n",
    "    [1.3, 5.4],\n",
    "    [2.0, 5.0],\n",
    "    [4.0, 2.0],\n",
    "    [5.0, 1.0],\n",
    "    [5.0, 2.0]])\n",
    "\n",
    "clusterResult = semi_kMeans(L,U)"
   ]
  },
  {
   "cell_type": "code",
   "execution_count": 7,
   "metadata": {},
   "outputs": [
    {
     "name": "stdout",
     "output_type": "stream",
     "text": [
      "[1. 1. 1. 1. 1. 0. 0. 1. 1. 1. 0. 0. 0.]\n"
     ]
    }
   ],
   "source": [
    "print(clusterResult)"
   ]
  }
 ],
 "metadata": {
  "kernelspec": {
   "display_name": "Python 3",
   "language": "python",
   "name": "python3"
  },
  "language_info": {
   "codemirror_mode": {
    "name": "ipython",
    "version": 3
   },
   "file_extension": ".py",
   "mimetype": "text/x-python",
   "name": "python",
   "nbconvert_exporter": "python",
   "pygments_lexer": "ipython3",
   "version": "3.7.1"
  }
 },
 "nbformat": 4,
 "nbformat_minor": 2
}
